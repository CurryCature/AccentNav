{
 "cells": [
  {
   "cell_type": "code",
   "execution_count": 2,
   "id": "53e53b46",
   "metadata": {},
   "outputs": [],
   "source": [
    "import os\n",
    "import subprocess\n",
    "\n",
    "# Folder containing input files\n",
    "input_folder = 'all'\n",
    "\n",
    "# Folder to save converted files\n",
    "output_folder = 'india'\n",
    "\n",
    "# List all files in the input folder\n",
    "input_files = os.listdir(input_folder)\n",
    "\n",
    "# Iterate over each input file\n",
    "for input_file in input_files:\n",
    "    # Check if the file is an MP3 file\n",
    "    if input_file.endswith('.mp3'):\n",
    "        # Construct input and output file paths\n",
    "        input_path = os.path.join(input_folder, input_file)\n",
    "        output_file = os.path.splitext(input_file)[0] + '.wav'\n",
    "        output_path = os.path.join(output_folder, output_file)\n",
    "        \n",
    "        # Call FFmpeg to convert the file\n",
    "        subprocess.call(['ffmpeg', '-i', input_path, output_path])"
   ]
  },
  {
   "cell_type": "code",
   "execution_count": 3,
   "id": "6ef83435",
   "metadata": {},
   "outputs": [
    {
     "data": {
      "text/plain": [
       "0"
      ]
     },
     "execution_count": 3,
     "metadata": {},
     "output_type": "execute_result"
    }
   ],
   "source": []
  }
 ],
 "metadata": {
  "kernelspec": {
   "display_name": "Python 3 (ipykernel)",
   "language": "python",
   "name": "python3"
  },
  "language_info": {
   "codemirror_mode": {
    "name": "ipython",
    "version": 3
   },
   "file_extension": ".py",
   "mimetype": "text/x-python",
   "name": "python",
   "nbconvert_exporter": "python",
   "pygments_lexer": "ipython3",
   "version": "3.12.3"
  }
 },
 "nbformat": 4,
 "nbformat_minor": 5
}
