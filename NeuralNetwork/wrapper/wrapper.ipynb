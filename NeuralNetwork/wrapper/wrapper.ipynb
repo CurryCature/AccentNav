{
 "cells": [
  {
   "cell_type": "code",
   "execution_count": 1,
   "metadata": {},
   "outputs": [
    {
     "name": "stderr",
     "output_type": "stream",
     "text": [
      "c:\\Users\\hanna\\miniconda3\\envs\\custom_py\\Lib\\site-packages\\keras\\src\\saving\\saving_lib.py:418: UserWarning: Skipping variable loading for optimizer 'adam', because it has 2 variables whereas the saved optimizer has 18 variables. \n",
      "  trackable.load_own_variables(weights_store.get(inner_path))\n"
     ]
    },
    {
     "name": "stdout",
     "output_type": "stream",
     "text": [
      "\u001b[1m1/1\u001b[0m \u001b[32m━━━━━━━━━━━━━━━━━━━━\u001b[0m\u001b[37m\u001b[0m \u001b[1m0s\u001b[0m 114ms/step\n"
     ]
    }
   ],
   "source": [
    "from tensorflow.keras import layers\n",
    "from tensorflow.keras import models\n",
    "import tensorflow as tf\n",
    "from tensorflow import keras\n",
    "import json\n",
    "with open('constants.json') as json_file:\n",
    "    data = json.load(json_file)\n",
    "    label_names = data[\"label_names\"]\n",
    "from os import path \n",
    "from pydub import AudioSegment \n",
    "import numpy as np\n",
    "from random import randint\n",
    "\n",
    "def get_spectrogram(waveform):\n",
    "  # Convert the waveform to a spectrogram via a STFT.\n",
    "  spectrogram = tf.signal.stft(\n",
    "      waveform, frame_length=255, frame_step=128)\n",
    "  # Obtain the magnitude of the STFT.\n",
    "  spectrogram = tf.abs(spectrogram)\n",
    "  # Add a `channels` dimension, so that the spectrogram can be used\n",
    "  # as image-like input data with convolution layers (which expect\n",
    "  # shape (`batch_size`, `height`, `width`, `channels`).\n",
    "  spectrogram = spectrogram[..., tf.newaxis]\n",
    "  return  spectrogram\n",
    "\n",
    "def import_model():\n",
    "\n",
    "    model = tf.keras.models.load_model('blankmodel.keras')\n",
    "    model.compile(\n",
    "        optimizer=tf.keras.optimizers.Adam(),\n",
    "        loss=tf.keras.losses.SparseCategoricalCrossentropy(from_logits=True),\n",
    "        metrics=['accuracy'],\n",
    "    )\n",
    "\n",
    "    checkpoint_filepath = 'model.keras'\n",
    "    model.load_weights(checkpoint_filepath)\n",
    "    return model\n",
    "\n",
    "def get_prediction():\n",
    "    model = import_model()\n",
    "\n",
    "    x = tf.io.read_file(str('voice.wav'))\n",
    "    x, _ = tf.audio.decode_wav(x, desired_channels=1, desired_samples=80000,)\n",
    "    x = tf.squeeze(x, axis=-1)\n",
    "    x = get_spectrogram(x)\n",
    "    x = x[tf.newaxis,...]\n",
    "    probability_model = tf.keras.Sequential([model, \n",
    "                                            tf.keras.layers.Softmax()])\n",
    "\n",
    "    prediction = probability_model.predict(x)\n",
    "    return prediction\n",
    "\n",
    "def to_json(prediction):\n",
    "    y = dict(zip(label_names, prediction.tolist()[0]))\n",
    "    x = randint(0, 1000)\n",
    "\n",
    "    sorted_dict = dict(sorted(y.items(), key=lambda item: item[1], reverse=True))\n",
    "\n",
    "    filtered_data = {key: value for key, value in sorted_dict.items() if value > 0.08}\n",
    "    if x == 100:\n",
    "        filtered_data.update({\"coconut\":\"0.01\"})\n",
    "\n",
    "    y = json.dumps(filtered_data)\n",
    "    return y\n",
    "\n",
    "\n",
    "if __name__ == \"__main__\":\n",
    "    input_file = \"voice.mp3\"\n",
    "    output_file = \"voice.wav\"\n",
    "        \n",
    "    try:\n",
    "        open(input_file, \"r\")   \n",
    "        sound = AudioSegment.from_mp3(input_file) \n",
    "        sound.export(output_file, format=\"wav\") \n",
    "        prediction = get_prediction()\n",
    "        y = to_json(prediction)\n",
    "\n",
    "\n",
    "    except FileNotFoundError:\n",
    "        y = json.dumps({\"error\":\"File not found\"})\n",
    "\n",
    "    \n",
    "    with open(\"output.json\", \"w\") as outfile: \n",
    "        outfile.write(y)\n",
    "\n"
   ]
  }
 ],
 "metadata": {
  "kernelspec": {
   "display_name": "custom_py",
   "language": "python",
   "name": "python3"
  },
  "language_info": {
   "codemirror_mode": {
    "name": "ipython",
    "version": 3
   },
   "file_extension": ".py",
   "mimetype": "text/x-python",
   "name": "python",
   "nbconvert_exporter": "python",
   "pygments_lexer": "ipython3",
   "version": "3.11.0"
  }
 },
 "nbformat": 4,
 "nbformat_minor": 2
}
